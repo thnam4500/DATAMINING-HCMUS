{
 "cells": [
  {
   "cell_type": "code",
   "execution_count": null,
   "metadata": {},
   "outputs": [],
   "source": [
    "import pandas as pd\n",
    "import numpy as np\n",
    "import matplotlib.pyplot as plt"
   ]
  },
  {
   "cell_type": "code",
   "execution_count": null,
   "metadata": {},
   "outputs": [],
   "source": [
    "file = pd.read_csv('../Data/data.csv')\n",
    "file = file.drop('diagnosis',axis=1)\n",
    "test = file.sample(int(0.4*len(file)))\n",
    "test.to_csv('../Data/predict.csv')"
   ]
  }
 ],
 "metadata": {
  "interpreter": {
   "hash": "eb316abfd80af96bde61a02c9cbfa56147ba08816c6e6f25c8e421500ac016fd"
  },
  "kernelspec": {
   "display_name": "Python 3.8.12 ('min_ds-env')",
   "language": "python",
   "name": "python3"
  },
  "language_info": {
   "codemirror_mode": {
    "name": "ipython",
    "version": 3
   },
   "file_extension": ".py",
   "mimetype": "text/x-python",
   "name": "python",
   "nbconvert_exporter": "python",
   "pygments_lexer": "ipython3",
   "version": "3.8.12"
  },
  "orig_nbformat": 4
 },
 "nbformat": 4,
 "nbformat_minor": 2
}
